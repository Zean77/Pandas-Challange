{
 "cells": [
  {
   "cell_type": "markdown",
   "metadata": {},
   "source": [
    "### Note\n",
    "* Instructions have been included for each segment. You do not have to follow them exactly, but they are included to help you think through the steps."
   ]
  },
  {
   "cell_type": "code",
   "execution_count": 1,
   "metadata": {},
   "outputs": [],
   "source": [
    "# Dependencies and Setup\n",
    "import pandas as pd\n",
    "\n",
    "# File to Load (Remember to Change These)\n",
    "file_to_load = \"Resources/purchase_data.csv\"\n",
    "\n",
    "# Read Purchasing File and store into Pandas data frame\n",
    "purchase_data = pd.read_csv(file_to_load)"
   ]
  },
  {
   "cell_type": "markdown",
   "metadata": {},
   "source": [
    "## Player Count"
   ]
  },
  {
   "cell_type": "markdown",
   "metadata": {},
   "source": [
    "* Display the total number of players\n"
   ]
  },
  {
   "cell_type": "code",
   "execution_count": 2,
   "metadata": {},
   "outputs": [
    {
     "data": {
      "text/html": [
       "<div>\n",
       "<style scoped>\n",
       "    .dataframe tbody tr th:only-of-type {\n",
       "        vertical-align: middle;\n",
       "    }\n",
       "\n",
       "    .dataframe tbody tr th {\n",
       "        vertical-align: top;\n",
       "    }\n",
       "\n",
       "    .dataframe thead th {\n",
       "        text-align: right;\n",
       "    }\n",
       "</style>\n",
       "<table border=\"1\" class=\"dataframe\">\n",
       "  <thead>\n",
       "    <tr style=\"text-align: right;\">\n",
       "      <th></th>\n",
       "      <th>Total Player</th>\n",
       "    </tr>\n",
       "  </thead>\n",
       "  <tbody>\n",
       "    <tr>\n",
       "      <th>0</th>\n",
       "      <td>576</td>\n",
       "    </tr>\n",
       "  </tbody>\n",
       "</table>\n",
       "</div>"
      ],
      "text/plain": [
       "   Total Player\n",
       "0           576"
      ]
     },
     "execution_count": 2,
     "metadata": {},
     "output_type": "execute_result"
    }
   ],
   "source": [
    "num_row = len(purchase_data[\"SN\"].unique())\n",
    "total_player = pd.DataFrame({\"Total Player\": [num_row]})\n",
    "total_player"
   ]
  },
  {
   "cell_type": "markdown",
   "metadata": {},
   "source": [
    "## Purchasing Analysis (Total)"
   ]
  },
  {
   "cell_type": "markdown",
   "metadata": {},
   "source": [
    "* Run basic calculations to obtain number of unique items, average price, etc.\n",
    "\n",
    "\n",
    "* Create a summary data frame to hold the results\n",
    "\n",
    "\n",
    "* Optional: give the displayed data cleaner formatting\n",
    "\n",
    "\n",
    "* Display the summary data frame\n"
   ]
  },
  {
   "cell_type": "code",
   "execution_count": 3,
   "metadata": {
    "scrolled": true
   },
   "outputs": [
    {
     "data": {
      "text/html": [
       "<style  type=\"text/css\" >\n",
       "</style><table id=\"T_24843118_10f9_11eb_9357_f01898011097\" ><thead>    <tr>        <th class=\"blank level0\" ></th>        <th class=\"col_heading level0 col0\" >Number of Unique Items</th>        <th class=\"col_heading level0 col1\" >Average Price</th>        <th class=\"col_heading level0 col2\" >Number of Purchases</th>        <th class=\"col_heading level0 col3\" >Total Revenue</th>    </tr></thead><tbody>\n",
       "                <tr>\n",
       "                        <th id=\"T_24843118_10f9_11eb_9357_f01898011097level0_row0\" class=\"row_heading level0 row0\" >0</th>\n",
       "                        <td id=\"T_24843118_10f9_11eb_9357_f01898011097row0_col0\" class=\"data row0 col0\" >179</td>\n",
       "                        <td id=\"T_24843118_10f9_11eb_9357_f01898011097row0_col1\" class=\"data row0 col1\" >$3.05</td>\n",
       "                        <td id=\"T_24843118_10f9_11eb_9357_f01898011097row0_col2\" class=\"data row0 col2\" >780</td>\n",
       "                        <td id=\"T_24843118_10f9_11eb_9357_f01898011097row0_col3\" class=\"data row0 col3\" >$2379.77</td>\n",
       "            </tr>\n",
       "    </tbody></table>"
      ],
      "text/plain": [
       "<pandas.io.formats.style.Styler at 0x7ff0e950f860>"
      ]
     },
     "execution_count": 3,
     "metadata": {},
     "output_type": "execute_result"
    }
   ],
   "source": [
    "#obtain the number of unique items\n",
    "num_Item = len(purchase_data[\"Item ID\"].unique())\n",
    "\n",
    "#calculate the average price\n",
    "average_price = purchase_data[\"Price\"].mean()\n",
    "\n",
    "#obtain the number of purchases\n",
    "num_pur = len(purchase_data[\"Purchase ID\"])\n",
    "\n",
    "#calculate the total revenue by summing up prices\n",
    "revenue = purchase_data[\"Price\"].sum()\n",
    "\n",
    "# summarize information into dataframe\n",
    "info_display = pd.DataFrame({\"Number of Unique Items\": [num_Item],\n",
    "                             \"Average Price\": [average_price],\n",
    "                             \"Number of Purchases\": [num_pur],\n",
    "                             \"Total Revenue\": [revenue]})\n",
    "info_display\n",
    "\n",
    "#format the dataframe and display it\n",
    "info_display.style.format({\"Average Price\": \"${:.2f}\",\"Total Revenue\": \"${:.2f}\"})"
   ]
  },
  {
   "cell_type": "markdown",
   "metadata": {},
   "source": [
    "## Gender Demographics"
   ]
  },
  {
   "cell_type": "markdown",
   "metadata": {},
   "source": [
    "* Percentage and Count of Male Players\n",
    "\n",
    "\n",
    "* Percentage and Count of Female Players\n",
    "\n",
    "\n",
    "* Percentage and Count of Other / Non-Disclosed\n",
    "\n",
    "\n"
   ]
  },
  {
   "cell_type": "code",
   "execution_count": 4,
   "metadata": {},
   "outputs": [
    {
     "data": {
      "text/html": [
       "<style  type=\"text/css\" >\n",
       "</style><table id=\"T_248eff42_10f9_11eb_b8cc_f01898011097\" ><thead>    <tr>        <th class=\"blank level0\" ></th>        <th class=\"col_heading level0 col0\" >Total Count</th>        <th class=\"col_heading level0 col1\" >Percentage of Players</th>    </tr></thead><tbody>\n",
       "                <tr>\n",
       "                        <th id=\"T_248eff42_10f9_11eb_b8cc_f01898011097level0_row0\" class=\"row_heading level0 row0\" >Male</th>\n",
       "                        <td id=\"T_248eff42_10f9_11eb_b8cc_f01898011097row0_col0\" class=\"data row0 col0\" >484</td>\n",
       "                        <td id=\"T_248eff42_10f9_11eb_b8cc_f01898011097row0_col1\" class=\"data row0 col1\" >84.03%</td>\n",
       "            </tr>\n",
       "            <tr>\n",
       "                        <th id=\"T_248eff42_10f9_11eb_b8cc_f01898011097level0_row1\" class=\"row_heading level0 row1\" >Female</th>\n",
       "                        <td id=\"T_248eff42_10f9_11eb_b8cc_f01898011097row1_col0\" class=\"data row1 col0\" >81</td>\n",
       "                        <td id=\"T_248eff42_10f9_11eb_b8cc_f01898011097row1_col1\" class=\"data row1 col1\" >14.06%</td>\n",
       "            </tr>\n",
       "            <tr>\n",
       "                        <th id=\"T_248eff42_10f9_11eb_b8cc_f01898011097level0_row2\" class=\"row_heading level0 row2\" >Other / Non-Disclosed</th>\n",
       "                        <td id=\"T_248eff42_10f9_11eb_b8cc_f01898011097row2_col0\" class=\"data row2 col0\" >11</td>\n",
       "                        <td id=\"T_248eff42_10f9_11eb_b8cc_f01898011097row2_col1\" class=\"data row2 col1\" >1.91%</td>\n",
       "            </tr>\n",
       "    </tbody></table>"
      ],
      "text/plain": [
       "<pandas.io.formats.style.Styler at 0x7ff0e950f198>"
      ]
     },
     "execution_count": 4,
     "metadata": {},
     "output_type": "execute_result"
    }
   ],
   "source": [
    "# remove duplicates and create simplified dataframe\n",
    "reduced_df = purchase_data.drop_duplicates(subset = \"SN\")\n",
    "\n",
    "# find number of males, females, and non-disclosed\n",
    "gender_count = reduced_df[\"Gender\"].value_counts()\n",
    "\n",
    "# find percentage of males, females, and non-disclosed\n",
    "Gender_pct = gender_count/num_row * 100\n",
    "\n",
    "# summarize information into a dataframe\n",
    "info_summary = pd.DataFrame({\"Total Count\": gender_count,\n",
    "                             \"Percentage of Players\": Gender_pct})\n",
    "info_summary\n",
    "\n",
    "#format the dataframe\n",
    "info_summary.style.format({\"Percentage of Players\": \"{:.2f}%\"})"
   ]
  },
  {
   "cell_type": "markdown",
   "metadata": {},
   "source": [
    "\n",
    "## Purchasing Analysis (Gender)"
   ]
  },
  {
   "cell_type": "markdown",
   "metadata": {},
   "source": [
    "* Run basic calculations to obtain purchase count, avg. purchase price, avg. purchase total per person etc. by gender\n",
    "\n",
    "\n",
    "\n",
    "\n",
    "* Create a summary data frame to hold the results\n",
    "\n",
    "\n",
    "* Optional: give the displayed data cleaner formatting\n",
    "\n",
    "\n",
    "* Display the summary data frame"
   ]
  },
  {
   "cell_type": "code",
   "execution_count": 5,
   "metadata": {},
   "outputs": [
    {
     "data": {
      "text/html": [
       "<style  type=\"text/css\" >\n",
       "</style><table id=\"T_24c1512c_10f9_11eb_8621_f01898011097\" ><thead>    <tr>        <th class=\"blank level0\" ></th>        <th class=\"col_heading level0 col0\" >Purchase Count</th>        <th class=\"col_heading level0 col1\" >Average Purchase Price</th>        <th class=\"col_heading level0 col2\" >Total Purchase Value</th>        <th class=\"col_heading level0 col3\" >Avg Total Purchase per Person</th>    </tr>    <tr>        <th class=\"index_name level0\" >Gender</th>        <th class=\"blank\" ></th>        <th class=\"blank\" ></th>        <th class=\"blank\" ></th>        <th class=\"blank\" ></th>    </tr></thead><tbody>\n",
       "                <tr>\n",
       "                        <th id=\"T_24c1512c_10f9_11eb_8621_f01898011097level0_row0\" class=\"row_heading level0 row0\" >Female</th>\n",
       "                        <td id=\"T_24c1512c_10f9_11eb_8621_f01898011097row0_col0\" class=\"data row0 col0\" >113</td>\n",
       "                        <td id=\"T_24c1512c_10f9_11eb_8621_f01898011097row0_col1\" class=\"data row0 col1\" >$3.20</td>\n",
       "                        <td id=\"T_24c1512c_10f9_11eb_8621_f01898011097row0_col2\" class=\"data row0 col2\" >$361.94</td>\n",
       "                        <td id=\"T_24c1512c_10f9_11eb_8621_f01898011097row0_col3\" class=\"data row0 col3\" >$4.47</td>\n",
       "            </tr>\n",
       "            <tr>\n",
       "                        <th id=\"T_24c1512c_10f9_11eb_8621_f01898011097level0_row1\" class=\"row_heading level0 row1\" >Male</th>\n",
       "                        <td id=\"T_24c1512c_10f9_11eb_8621_f01898011097row1_col0\" class=\"data row1 col0\" >652</td>\n",
       "                        <td id=\"T_24c1512c_10f9_11eb_8621_f01898011097row1_col1\" class=\"data row1 col1\" >$3.02</td>\n",
       "                        <td id=\"T_24c1512c_10f9_11eb_8621_f01898011097row1_col2\" class=\"data row1 col2\" >$1,967.64</td>\n",
       "                        <td id=\"T_24c1512c_10f9_11eb_8621_f01898011097row1_col3\" class=\"data row1 col3\" >$4.07</td>\n",
       "            </tr>\n",
       "            <tr>\n",
       "                        <th id=\"T_24c1512c_10f9_11eb_8621_f01898011097level0_row2\" class=\"row_heading level0 row2\" >Other / Non-Disclosed</th>\n",
       "                        <td id=\"T_24c1512c_10f9_11eb_8621_f01898011097row2_col0\" class=\"data row2 col0\" >15</td>\n",
       "                        <td id=\"T_24c1512c_10f9_11eb_8621_f01898011097row2_col1\" class=\"data row2 col1\" >$3.35</td>\n",
       "                        <td id=\"T_24c1512c_10f9_11eb_8621_f01898011097row2_col2\" class=\"data row2 col2\" >$50.19</td>\n",
       "                        <td id=\"T_24c1512c_10f9_11eb_8621_f01898011097row2_col3\" class=\"data row2 col3\" >$4.56</td>\n",
       "            </tr>\n",
       "    </tbody></table>"
      ],
      "text/plain": [
       "<pandas.io.formats.style.Styler at 0x7ff0ea7e79e8>"
      ]
     },
     "execution_count": 5,
     "metadata": {},
     "output_type": "execute_result"
    }
   ],
   "source": [
    "# group the dataset by gender\n",
    "gender_df = purchase_data.groupby([\"Gender\"])\n",
    "\n",
    "# find the number of purchases by gender\n",
    "Purchase_sum = gender_df[\"Purchase ID\"].count()\n",
    "\n",
    "# find average price of purchase by gender\n",
    "Average_price = gender_df[\"Price\"].mean()\n",
    "\n",
    "# find total purchase value by gender\n",
    "Total_price = gender_df[\"Price\"].sum()\n",
    "\n",
    "# find total purchase per person by gender\n",
    "Pur_per_person = Total_price/gender_count\n",
    "\n",
    "# aggregate information into dataframe\n",
    "Purchase_summary = pd.DataFrame({\"Purchase Count\": Purchase_sum,\n",
    "                             \"Average Purchase Price\": Average_price,\n",
    "                             \"Total Purchase Value\": Total_price,\n",
    "                             \"Avg Total Purchase per Person\": Pur_per_person})\n",
    "\n",
    "# format the dataframe\n",
    "Purchase_summary.style.format({\"Average Purchase Price\": \"${:.2f}\",\"Total Purchase Value\":\"${:,.2f}\",\n",
    "                               \"Avg Total Purchase per Person\": \"${:.2f}\"})"
   ]
  },
  {
   "cell_type": "markdown",
   "metadata": {},
   "source": [
    "## Age Demographics"
   ]
  },
  {
   "cell_type": "markdown",
   "metadata": {},
   "source": [
    "* Establish bins for ages\n",
    "\n",
    "\n",
    "* Categorize the existing players using the age bins. Hint: use pd.cut()\n",
    "\n",
    "\n",
    "* Calculate the numbers and percentages by age group\n",
    "\n",
    "\n",
    "* Create a summary data frame to hold the results\n",
    "\n",
    "\n",
    "* Optional: round the percentage column to two decimal points\n",
    "\n",
    "\n",
    "* Display Age Demographics Table\n"
   ]
  },
  {
   "cell_type": "code",
   "execution_count": 6,
   "metadata": {},
   "outputs": [
    {
     "name": "stderr",
     "output_type": "stream",
     "text": [
      "/opt/anaconda3/envs/PythonData/lib/python3.6/site-packages/ipykernel_launcher.py:13: SettingWithCopyWarning: \n",
      "A value is trying to be set on a copy of a slice from a DataFrame.\n",
      "Try using .loc[row_indexer,col_indexer] = value instead\n",
      "\n",
      "See the caveats in the documentation: https://pandas.pydata.org/pandas-docs/stable/user_guide/indexing.html#returning-a-view-versus-a-copy\n",
      "  del sys.path[0]\n"
     ]
    },
    {
     "data": {
      "text/html": [
       "<style  type=\"text/css\" >\n",
       "</style><table id=\"T_2528c212_10f9_11eb_8ffa_f01898011097\" ><thead>    <tr>        <th class=\"blank level0\" ></th>        <th class=\"col_heading level0 col0\" >Total Count</th>        <th class=\"col_heading level0 col1\" >Percentage of Players</th>    </tr>    <tr>        <th class=\"index_name level0\" >Age Group</th>        <th class=\"blank\" ></th>        <th class=\"blank\" ></th>    </tr></thead><tbody>\n",
       "                <tr>\n",
       "                        <th id=\"T_2528c212_10f9_11eb_8ffa_f01898011097level0_row0\" class=\"row_heading level0 row0\" ><10</th>\n",
       "                        <td id=\"T_2528c212_10f9_11eb_8ffa_f01898011097row0_col0\" class=\"data row0 col0\" >17</td>\n",
       "                        <td id=\"T_2528c212_10f9_11eb_8ffa_f01898011097row0_col1\" class=\"data row0 col1\" >2.95%</td>\n",
       "            </tr>\n",
       "            <tr>\n",
       "                        <th id=\"T_2528c212_10f9_11eb_8ffa_f01898011097level0_row1\" class=\"row_heading level0 row1\" >10-14</th>\n",
       "                        <td id=\"T_2528c212_10f9_11eb_8ffa_f01898011097row1_col0\" class=\"data row1 col0\" >22</td>\n",
       "                        <td id=\"T_2528c212_10f9_11eb_8ffa_f01898011097row1_col1\" class=\"data row1 col1\" >3.82%</td>\n",
       "            </tr>\n",
       "            <tr>\n",
       "                        <th id=\"T_2528c212_10f9_11eb_8ffa_f01898011097level0_row2\" class=\"row_heading level0 row2\" >15-19</th>\n",
       "                        <td id=\"T_2528c212_10f9_11eb_8ffa_f01898011097row2_col0\" class=\"data row2 col0\" >107</td>\n",
       "                        <td id=\"T_2528c212_10f9_11eb_8ffa_f01898011097row2_col1\" class=\"data row2 col1\" >18.58%</td>\n",
       "            </tr>\n",
       "            <tr>\n",
       "                        <th id=\"T_2528c212_10f9_11eb_8ffa_f01898011097level0_row3\" class=\"row_heading level0 row3\" >20-24</th>\n",
       "                        <td id=\"T_2528c212_10f9_11eb_8ffa_f01898011097row3_col0\" class=\"data row3 col0\" >258</td>\n",
       "                        <td id=\"T_2528c212_10f9_11eb_8ffa_f01898011097row3_col1\" class=\"data row3 col1\" >44.79%</td>\n",
       "            </tr>\n",
       "            <tr>\n",
       "                        <th id=\"T_2528c212_10f9_11eb_8ffa_f01898011097level0_row4\" class=\"row_heading level0 row4\" >25-29</th>\n",
       "                        <td id=\"T_2528c212_10f9_11eb_8ffa_f01898011097row4_col0\" class=\"data row4 col0\" >77</td>\n",
       "                        <td id=\"T_2528c212_10f9_11eb_8ffa_f01898011097row4_col1\" class=\"data row4 col1\" >13.37%</td>\n",
       "            </tr>\n",
       "            <tr>\n",
       "                        <th id=\"T_2528c212_10f9_11eb_8ffa_f01898011097level0_row5\" class=\"row_heading level0 row5\" >30-34</th>\n",
       "                        <td id=\"T_2528c212_10f9_11eb_8ffa_f01898011097row5_col0\" class=\"data row5 col0\" >52</td>\n",
       "                        <td id=\"T_2528c212_10f9_11eb_8ffa_f01898011097row5_col1\" class=\"data row5 col1\" >9.03%</td>\n",
       "            </tr>\n",
       "            <tr>\n",
       "                        <th id=\"T_2528c212_10f9_11eb_8ffa_f01898011097level0_row6\" class=\"row_heading level0 row6\" >35-39</th>\n",
       "                        <td id=\"T_2528c212_10f9_11eb_8ffa_f01898011097row6_col0\" class=\"data row6 col0\" >31</td>\n",
       "                        <td id=\"T_2528c212_10f9_11eb_8ffa_f01898011097row6_col1\" class=\"data row6 col1\" >5.38%</td>\n",
       "            </tr>\n",
       "            <tr>\n",
       "                        <th id=\"T_2528c212_10f9_11eb_8ffa_f01898011097level0_row7\" class=\"row_heading level0 row7\" >40+</th>\n",
       "                        <td id=\"T_2528c212_10f9_11eb_8ffa_f01898011097row7_col0\" class=\"data row7 col0\" >12</td>\n",
       "                        <td id=\"T_2528c212_10f9_11eb_8ffa_f01898011097row7_col1\" class=\"data row7 col1\" >2.08%</td>\n",
       "            </tr>\n",
       "    </tbody></table>"
      ],
      "text/plain": [
       "<pandas.io.formats.style.Styler at 0x7ff0ea843ef0>"
      ]
     },
     "execution_count": 6,
     "metadata": {},
     "output_type": "execute_result"
    }
   ],
   "source": [
    "# Create bins in which to place values based upon Age\n",
    "bins = [0, 9, 14, 19, 24, 29,\n",
    "        34, 39, 100]\n",
    "\n",
    "# Create the names for the bins\n",
    "age_labels = [\"<10\", \"10-14\", \"15-19\", \"20-24\", \"25-29\", \"30-34\",\n",
    "                \"35-39\", \"40+\"]\n",
    "\n",
    "# Slice the data and place it into bins\n",
    "pd.cut(reduced_df[\"Age\"], bins, labels=age_labels).head()\n",
    "\n",
    "# Place the data series into a new column inside of the DataFrame\n",
    "reduced_df[\"Age Group\"]=pd.cut(reduced_df[\"Age\"], bins, labels=age_labels)\n",
    "reduced_df.head()\n",
    "\n",
    "# Create a GroupBy object based upon \"Age Group\"\n",
    "Age_class = reduced_df.groupby(\"Age Group\")\n",
    "\n",
    "# find the player number by age\n",
    "Player_count = Age_class[\"Age\"].count()\n",
    "\n",
    "# find percentage of players by age\n",
    "Player_pct = (Player_count/576)*100\n",
    "\n",
    "# place information into dataframe\n",
    "Age_summary = pd.DataFrame({\"Total Count\": Player_count,\n",
    "                            \"Percentage of Players\": Player_pct})\n",
    "\n",
    "# format the dataframe\n",
    "Age_summary.style.format({\"Percentage of Players\": \"{:.2f}%\"})"
   ]
  },
  {
   "cell_type": "markdown",
   "metadata": {},
   "source": [
    "## Purchasing Analysis (Age)"
   ]
  },
  {
   "cell_type": "markdown",
   "metadata": {},
   "source": [
    "* Bin the purchase_data data frame by age\n",
    "\n",
    "\n",
    "* Run basic calculations to obtain purchase count, avg. purchase price, avg. purchase total per person etc. in the table below\n",
    "\n",
    "\n",
    "* Create a summary data frame to hold the results\n",
    "\n",
    "\n",
    "* Optional: give the displayed data cleaner formatting\n",
    "\n",
    "\n",
    "* Display the summary data frame"
   ]
  },
  {
   "cell_type": "code",
   "execution_count": 7,
   "metadata": {},
   "outputs": [
    {
     "data": {
      "text/html": [
       "<style  type=\"text/css\" >\n",
       "</style><table id=\"T_25f5a85e_10f9_11eb_b8d6_f01898011097\" ><thead>    <tr>        <th class=\"blank level0\" ></th>        <th class=\"col_heading level0 col0\" >Purchase Count</th>        <th class=\"col_heading level0 col1\" >Average Purchase Price</th>        <th class=\"col_heading level0 col2\" >Total Purchase Value</th>        <th class=\"col_heading level0 col3\" >Average Purchase Total per Person</th>    </tr>    <tr>        <th class=\"index_name level0\" >Age Group</th>        <th class=\"blank\" ></th>        <th class=\"blank\" ></th>        <th class=\"blank\" ></th>        <th class=\"blank\" ></th>    </tr></thead><tbody>\n",
       "                <tr>\n",
       "                        <th id=\"T_25f5a85e_10f9_11eb_b8d6_f01898011097level0_row0\" class=\"row_heading level0 row0\" ><10</th>\n",
       "                        <td id=\"T_25f5a85e_10f9_11eb_b8d6_f01898011097row0_col0\" class=\"data row0 col0\" >23</td>\n",
       "                        <td id=\"T_25f5a85e_10f9_11eb_b8d6_f01898011097row0_col1\" class=\"data row0 col1\" >$3.35</td>\n",
       "                        <td id=\"T_25f5a85e_10f9_11eb_b8d6_f01898011097row0_col2\" class=\"data row0 col2\" >$77.13</td>\n",
       "                        <td id=\"T_25f5a85e_10f9_11eb_b8d6_f01898011097row0_col3\" class=\"data row0 col3\" >$4.54</td>\n",
       "            </tr>\n",
       "            <tr>\n",
       "                        <th id=\"T_25f5a85e_10f9_11eb_b8d6_f01898011097level0_row1\" class=\"row_heading level0 row1\" >10-14</th>\n",
       "                        <td id=\"T_25f5a85e_10f9_11eb_b8d6_f01898011097row1_col0\" class=\"data row1 col0\" >28</td>\n",
       "                        <td id=\"T_25f5a85e_10f9_11eb_b8d6_f01898011097row1_col1\" class=\"data row1 col1\" >$2.96</td>\n",
       "                        <td id=\"T_25f5a85e_10f9_11eb_b8d6_f01898011097row1_col2\" class=\"data row1 col2\" >$82.78</td>\n",
       "                        <td id=\"T_25f5a85e_10f9_11eb_b8d6_f01898011097row1_col3\" class=\"data row1 col3\" >$3.76</td>\n",
       "            </tr>\n",
       "            <tr>\n",
       "                        <th id=\"T_25f5a85e_10f9_11eb_b8d6_f01898011097level0_row2\" class=\"row_heading level0 row2\" >15-19</th>\n",
       "                        <td id=\"T_25f5a85e_10f9_11eb_b8d6_f01898011097row2_col0\" class=\"data row2 col0\" >136</td>\n",
       "                        <td id=\"T_25f5a85e_10f9_11eb_b8d6_f01898011097row2_col1\" class=\"data row2 col1\" >$3.04</td>\n",
       "                        <td id=\"T_25f5a85e_10f9_11eb_b8d6_f01898011097row2_col2\" class=\"data row2 col2\" >$412.89</td>\n",
       "                        <td id=\"T_25f5a85e_10f9_11eb_b8d6_f01898011097row2_col3\" class=\"data row2 col3\" >$3.86</td>\n",
       "            </tr>\n",
       "            <tr>\n",
       "                        <th id=\"T_25f5a85e_10f9_11eb_b8d6_f01898011097level0_row3\" class=\"row_heading level0 row3\" >20-24</th>\n",
       "                        <td id=\"T_25f5a85e_10f9_11eb_b8d6_f01898011097row3_col0\" class=\"data row3 col0\" >365</td>\n",
       "                        <td id=\"T_25f5a85e_10f9_11eb_b8d6_f01898011097row3_col1\" class=\"data row3 col1\" >$3.05</td>\n",
       "                        <td id=\"T_25f5a85e_10f9_11eb_b8d6_f01898011097row3_col2\" class=\"data row3 col2\" >$1,114.06</td>\n",
       "                        <td id=\"T_25f5a85e_10f9_11eb_b8d6_f01898011097row3_col3\" class=\"data row3 col3\" >$4.32</td>\n",
       "            </tr>\n",
       "            <tr>\n",
       "                        <th id=\"T_25f5a85e_10f9_11eb_b8d6_f01898011097level0_row4\" class=\"row_heading level0 row4\" >25-29</th>\n",
       "                        <td id=\"T_25f5a85e_10f9_11eb_b8d6_f01898011097row4_col0\" class=\"data row4 col0\" >101</td>\n",
       "                        <td id=\"T_25f5a85e_10f9_11eb_b8d6_f01898011097row4_col1\" class=\"data row4 col1\" >$2.90</td>\n",
       "                        <td id=\"T_25f5a85e_10f9_11eb_b8d6_f01898011097row4_col2\" class=\"data row4 col2\" >$293.00</td>\n",
       "                        <td id=\"T_25f5a85e_10f9_11eb_b8d6_f01898011097row4_col3\" class=\"data row4 col3\" >$3.81</td>\n",
       "            </tr>\n",
       "            <tr>\n",
       "                        <th id=\"T_25f5a85e_10f9_11eb_b8d6_f01898011097level0_row5\" class=\"row_heading level0 row5\" >30-34</th>\n",
       "                        <td id=\"T_25f5a85e_10f9_11eb_b8d6_f01898011097row5_col0\" class=\"data row5 col0\" >73</td>\n",
       "                        <td id=\"T_25f5a85e_10f9_11eb_b8d6_f01898011097row5_col1\" class=\"data row5 col1\" >$2.93</td>\n",
       "                        <td id=\"T_25f5a85e_10f9_11eb_b8d6_f01898011097row5_col2\" class=\"data row5 col2\" >$214.00</td>\n",
       "                        <td id=\"T_25f5a85e_10f9_11eb_b8d6_f01898011097row5_col3\" class=\"data row5 col3\" >$4.12</td>\n",
       "            </tr>\n",
       "            <tr>\n",
       "                        <th id=\"T_25f5a85e_10f9_11eb_b8d6_f01898011097level0_row6\" class=\"row_heading level0 row6\" >35-39</th>\n",
       "                        <td id=\"T_25f5a85e_10f9_11eb_b8d6_f01898011097row6_col0\" class=\"data row6 col0\" >41</td>\n",
       "                        <td id=\"T_25f5a85e_10f9_11eb_b8d6_f01898011097row6_col1\" class=\"data row6 col1\" >$3.60</td>\n",
       "                        <td id=\"T_25f5a85e_10f9_11eb_b8d6_f01898011097row6_col2\" class=\"data row6 col2\" >$147.67</td>\n",
       "                        <td id=\"T_25f5a85e_10f9_11eb_b8d6_f01898011097row6_col3\" class=\"data row6 col3\" >$4.76</td>\n",
       "            </tr>\n",
       "            <tr>\n",
       "                        <th id=\"T_25f5a85e_10f9_11eb_b8d6_f01898011097level0_row7\" class=\"row_heading level0 row7\" >40+</th>\n",
       "                        <td id=\"T_25f5a85e_10f9_11eb_b8d6_f01898011097row7_col0\" class=\"data row7 col0\" >13</td>\n",
       "                        <td id=\"T_25f5a85e_10f9_11eb_b8d6_f01898011097row7_col1\" class=\"data row7 col1\" >$2.94</td>\n",
       "                        <td id=\"T_25f5a85e_10f9_11eb_b8d6_f01898011097row7_col2\" class=\"data row7 col2\" >$38.24</td>\n",
       "                        <td id=\"T_25f5a85e_10f9_11eb_b8d6_f01898011097row7_col3\" class=\"data row7 col3\" >$3.19</td>\n",
       "            </tr>\n",
       "    </tbody></table>"
      ],
      "text/plain": [
       "<pandas.io.formats.style.Styler at 0x7ff0e93c26d8>"
      ]
     },
     "execution_count": 7,
     "metadata": {},
     "output_type": "execute_result"
    }
   ],
   "source": [
    "# Slice the data and place it into bins\n",
    "pd.cut(purchase_data[\"Age\"], bins, labels=age_labels).head()\n",
    "\n",
    "# Place the data series into a new column inside of the DataFrame\n",
    "purchase_data[\"Age Group\"]=pd.cut(purchase_data[\"Age\"], bins, labels=age_labels)\n",
    "purchase_data.head()\n",
    "\n",
    "# Create a GroupBy object based upon \"Age Group\"\n",
    "Age_class = purchase_data.groupby(\"Age Group\")\n",
    "\n",
    "# find the player number by the age group\n",
    "Player_num = Age_class[\"Age\"].count()\n",
    "\n",
    "# find the average purchase price by the age group\n",
    "Avg_Price = Age_class[\"Price\"].mean()\n",
    "\n",
    "# find total purchase value by the age group\n",
    "Total_pur = Age_class[\"Price\"].sum()\n",
    "\n",
    "# find average total purchase value per person by the age group\n",
    "Avg_per_person = Total_pur/Player_count\n",
    "Avg_per_person\n",
    "\n",
    "# place information into a dataframe\n",
    "Pur_Age_summary = pd.DataFrame({\"Purchase Count\": Player_num,\n",
    "                            \"Average Purchase Price\": Avg_Price,\n",
    "                            \"Total Purchase Value\": Total_pur,\n",
    "                            \"Average Purchase Total per Person\": Avg_per_person})\n",
    "\n",
    "# format the dataframe\n",
    "Pur_Age_summary.style.format({\"Average Purchase Price\": \"${:.2f}\", \"Total Purchase Value\": \"${:,.2f}\",\n",
    "                              \"Average Purchase Total per Person\": \"${:.2f}\"})"
   ]
  },
  {
   "cell_type": "markdown",
   "metadata": {},
   "source": [
    "## Top Spenders"
   ]
  },
  {
   "cell_type": "markdown",
   "metadata": {},
   "source": [
    "* Run basic calculations to obtain the results in the table below\n",
    "\n",
    "\n",
    "* Create a summary data frame to hold the results\n",
    "\n",
    "\n",
    "* Sort the total purchase value column in descending order\n",
    "\n",
    "\n",
    "* Optional: give the displayed data cleaner formatting\n",
    "\n",
    "\n",
    "* Display a preview of the summary data frame\n",
    "\n"
   ]
  },
  {
   "cell_type": "code",
   "execution_count": 8,
   "metadata": {},
   "outputs": [
    {
     "data": {
      "text/html": [
       "<div>\n",
       "<style scoped>\n",
       "    .dataframe tbody tr th:only-of-type {\n",
       "        vertical-align: middle;\n",
       "    }\n",
       "\n",
       "    .dataframe tbody tr th {\n",
       "        vertical-align: top;\n",
       "    }\n",
       "\n",
       "    .dataframe thead th {\n",
       "        text-align: right;\n",
       "    }\n",
       "</style>\n",
       "<table border=\"1\" class=\"dataframe\">\n",
       "  <thead>\n",
       "    <tr style=\"text-align: right;\">\n",
       "      <th></th>\n",
       "      <th>Purchase Count</th>\n",
       "      <th>Average Purchase Price</th>\n",
       "      <th>Total Purchase Value</th>\n",
       "    </tr>\n",
       "    <tr>\n",
       "      <th>SN</th>\n",
       "      <th></th>\n",
       "      <th></th>\n",
       "      <th></th>\n",
       "    </tr>\n",
       "  </thead>\n",
       "  <tbody>\n",
       "    <tr>\n",
       "      <th>Lisosia93</th>\n",
       "      <td>5</td>\n",
       "      <td>$3.79</td>\n",
       "      <td>$18.96</td>\n",
       "    </tr>\n",
       "    <tr>\n",
       "      <th>Idastidru52</th>\n",
       "      <td>4</td>\n",
       "      <td>$3.86</td>\n",
       "      <td>$15.45</td>\n",
       "    </tr>\n",
       "    <tr>\n",
       "      <th>Chamjask73</th>\n",
       "      <td>3</td>\n",
       "      <td>$4.61</td>\n",
       "      <td>$13.83</td>\n",
       "    </tr>\n",
       "    <tr>\n",
       "      <th>Iral74</th>\n",
       "      <td>4</td>\n",
       "      <td>$3.40</td>\n",
       "      <td>$13.62</td>\n",
       "    </tr>\n",
       "    <tr>\n",
       "      <th>Iskadarya95</th>\n",
       "      <td>3</td>\n",
       "      <td>$4.37</td>\n",
       "      <td>$13.10</td>\n",
       "    </tr>\n",
       "  </tbody>\n",
       "</table>\n",
       "</div>"
      ],
      "text/plain": [
       "             Purchase Count Average Purchase Price Total Purchase Value\n",
       "SN                                                                     \n",
       "Lisosia93                 5                  $3.79               $18.96\n",
       "Idastidru52               4                  $3.86               $15.45\n",
       "Chamjask73                3                  $4.61               $13.83\n",
       "Iral74                    4                  $3.40               $13.62\n",
       "Iskadarya95               3                  $4.37               $13.10"
      ]
     },
     "execution_count": 8,
     "metadata": {},
     "output_type": "execute_result"
    }
   ],
   "source": [
    "# Create a GroupBy object based upon \"SN\"\n",
    "Spender_df = purchase_data.groupby(\"SN\")\n",
    "\n",
    "# find the purchase number by each player\n",
    "purchase_time = Spender_df[\"Purchase ID\"].count()\n",
    "\n",
    "# find the average purchase price by each player\n",
    "Avg_Purchase_price = Spender_df[\"Price\"].mean()\n",
    "\n",
    "# find the total purchase value by each player\n",
    "Tot_value = Spender_df[\"Price\"].sum()\n",
    "\n",
    "# place information into a dataframe\n",
    "Expenditure_summary = pd.DataFrame({\"Purchase Count\": purchase_time,\n",
    "                                    \"Average Purchase Price\": Avg_Purchase_price,\n",
    "                                    \"Total Purchase Value\": Tot_value})\n",
    "\n",
    "# sort the \"Total Purchase Value\" based on descending order \n",
    "Expenditure_summary = Expenditure_summary.sort_values(\"Total Purchase Value\", ascending=False)\n",
    "\n",
    "# format columns and display dataframe\n",
    "Expenditure_summary[\"Average Purchase Price\"] = Expenditure_summary[\"Average Purchase Price\"].map(\"${:.2f}\".format)\n",
    "Expenditure_summary[\"Total Purchase Value\"] = Expenditure_summary[\"Total Purchase Value\"].map(\"${:.2f}\".format)\n",
    "Expenditure_summary.head()"
   ]
  },
  {
   "cell_type": "markdown",
   "metadata": {},
   "source": [
    "## Most Popular Items"
   ]
  },
  {
   "cell_type": "markdown",
   "metadata": {},
   "source": [
    "* Retrieve the Item ID, Item Name, and Item Price columns\n",
    "\n",
    "\n",
    "* Group by Item ID and Item Name. Perform calculations to obtain purchase count, average item price, and total purchase value\n",
    "\n",
    "\n",
    "* Create a summary data frame to hold the results\n",
    "\n",
    "\n",
    "* Sort the purchase count column in descending order\n",
    "\n",
    "\n",
    "* Optional: give the displayed data cleaner formatting\n",
    "\n",
    "\n",
    "* Display a preview of the summary data frame\n",
    "\n"
   ]
  },
  {
   "cell_type": "code",
   "execution_count": 9,
   "metadata": {},
   "outputs": [
    {
     "data": {
      "text/html": [
       "<div>\n",
       "<style scoped>\n",
       "    .dataframe tbody tr th:only-of-type {\n",
       "        vertical-align: middle;\n",
       "    }\n",
       "\n",
       "    .dataframe tbody tr th {\n",
       "        vertical-align: top;\n",
       "    }\n",
       "\n",
       "    .dataframe thead th {\n",
       "        text-align: right;\n",
       "    }\n",
       "</style>\n",
       "<table border=\"1\" class=\"dataframe\">\n",
       "  <thead>\n",
       "    <tr style=\"text-align: right;\">\n",
       "      <th></th>\n",
       "      <th></th>\n",
       "      <th>Purchase Count</th>\n",
       "      <th>Item Price</th>\n",
       "      <th>Total Purchase Value</th>\n",
       "    </tr>\n",
       "    <tr>\n",
       "      <th>Item ID</th>\n",
       "      <th>Item Name</th>\n",
       "      <th></th>\n",
       "      <th></th>\n",
       "      <th></th>\n",
       "    </tr>\n",
       "  </thead>\n",
       "  <tbody>\n",
       "    <tr>\n",
       "      <th>92</th>\n",
       "      <th>Final Critic</th>\n",
       "      <td>13</td>\n",
       "      <td>$4.61</td>\n",
       "      <td>$59.99</td>\n",
       "    </tr>\n",
       "    <tr>\n",
       "      <th>178</th>\n",
       "      <th>Oathbreaker, Last Hope of the Breaking Storm</th>\n",
       "      <td>12</td>\n",
       "      <td>$4.23</td>\n",
       "      <td>$50.76</td>\n",
       "    </tr>\n",
       "    <tr>\n",
       "      <th>145</th>\n",
       "      <th>Fiery Glass Crusader</th>\n",
       "      <td>9</td>\n",
       "      <td>$4.58</td>\n",
       "      <td>$41.22</td>\n",
       "    </tr>\n",
       "    <tr>\n",
       "      <th>132</th>\n",
       "      <th>Persuasion</th>\n",
       "      <td>9</td>\n",
       "      <td>$3.22</td>\n",
       "      <td>$28.99</td>\n",
       "    </tr>\n",
       "    <tr>\n",
       "      <th>108</th>\n",
       "      <th>Extraction, Quickblade Of Trembling Hands</th>\n",
       "      <td>9</td>\n",
       "      <td>$3.53</td>\n",
       "      <td>$31.77</td>\n",
       "    </tr>\n",
       "  </tbody>\n",
       "</table>\n",
       "</div>"
      ],
      "text/plain": [
       "                                                      Purchase Count  \\\n",
       "Item ID Item Name                                                      \n",
       "92      Final Critic                                              13   \n",
       "178     Oathbreaker, Last Hope of the Breaking Storm              12   \n",
       "145     Fiery Glass Crusader                                       9   \n",
       "132     Persuasion                                                 9   \n",
       "108     Extraction, Quickblade Of Trembling Hands                  9   \n",
       "\n",
       "                                                     Item Price  \\\n",
       "Item ID Item Name                                                 \n",
       "92      Final Critic                                      $4.61   \n",
       "178     Oathbreaker, Last Hope of the Breaking Storm      $4.23   \n",
       "145     Fiery Glass Crusader                              $4.58   \n",
       "132     Persuasion                                        $3.22   \n",
       "108     Extraction, Quickblade Of Trembling Hands         $3.53   \n",
       "\n",
       "                                                     Total Purchase Value  \n",
       "Item ID Item Name                                                          \n",
       "92      Final Critic                                               $59.99  \n",
       "178     Oathbreaker, Last Hope of the Breaking Storm               $50.76  \n",
       "145     Fiery Glass Crusader                                       $41.22  \n",
       "132     Persuasion                                                 $28.99  \n",
       "108     Extraction, Quickblade Of Trembling Hands                  $31.77  "
      ]
     },
     "execution_count": 9,
     "metadata": {},
     "output_type": "execute_result"
    }
   ],
   "source": [
    "# Extract the following columns: 'Item ID', 'Item Name', 'Price'\n",
    "Item_df = purchase_data[[\"Item ID\", \"Item Name\", \"Price\"]]\n",
    "Item_df.head()\n",
    "\n",
    "# Create a GroupBy object based upon \"Item ID\" and \"Item Name\"\n",
    "Item_group = Item_df.groupby([\"Item ID\", \"Item Name\"])\n",
    "\n",
    "# find the purchase number by each Item\n",
    "Pur_time = Item_group[\"Item Name\"].count()\n",
    "\n",
    "# find the average purchase price by each Item\n",
    "Item_price = Item_group[\"Price\"].mean()\n",
    "\n",
    "# find the total purchase value by each Item\n",
    "Item_tot = Item_group[\"Price\"].sum()\n",
    "\n",
    "# place information into a dataframe\n",
    "Item_summary = pd.DataFrame({\"Purchase Count\": Pur_time,\n",
    "                             \"Item Price\": Item_price,\n",
    "                             \"Total Purchase Value\": Item_tot})\n",
    "\n",
    "# sort the \"Purchase Count\" based on descending order \n",
    "Item_summary = Item_summary.sort_values(\"Purchase Count\", ascending=False)\n",
    "\n",
    "# format columns and display dataframe\n",
    "Item_summary[\"Item Price\"] = Item_summary[\"Item Price\"].map(\"${:.2f}\".format)\n",
    "Item_summary[\"Total Purchase Value\"] = Item_summary[\"Total Purchase Value\"].map(\"${:.2f}\".format)\n",
    "Item_summary.head()"
   ]
  },
  {
   "cell_type": "markdown",
   "metadata": {},
   "source": [
    "## Most Profitable Items"
   ]
  },
  {
   "cell_type": "markdown",
   "metadata": {},
   "source": [
    "* Sort the above table by total purchase value in descending order\n",
    "\n",
    "\n",
    "* Optional: give the displayed data cleaner formatting\n",
    "\n",
    "\n",
    "* Display a preview of the data frame\n",
    "\n"
   ]
  },
  {
   "cell_type": "code",
   "execution_count": 10,
   "metadata": {
    "scrolled": true
   },
   "outputs": [
    {
     "data": {
      "text/html": [
       "<div>\n",
       "<style scoped>\n",
       "    .dataframe tbody tr th:only-of-type {\n",
       "        vertical-align: middle;\n",
       "    }\n",
       "\n",
       "    .dataframe tbody tr th {\n",
       "        vertical-align: top;\n",
       "    }\n",
       "\n",
       "    .dataframe thead th {\n",
       "        text-align: right;\n",
       "    }\n",
       "</style>\n",
       "<table border=\"1\" class=\"dataframe\">\n",
       "  <thead>\n",
       "    <tr style=\"text-align: right;\">\n",
       "      <th></th>\n",
       "      <th></th>\n",
       "      <th>Purchase Count</th>\n",
       "      <th>Item Price</th>\n",
       "      <th>Total Purchase Value</th>\n",
       "    </tr>\n",
       "    <tr>\n",
       "      <th>Item ID</th>\n",
       "      <th>Item Name</th>\n",
       "      <th></th>\n",
       "      <th></th>\n",
       "      <th></th>\n",
       "    </tr>\n",
       "  </thead>\n",
       "  <tbody>\n",
       "    <tr>\n",
       "      <th>92</th>\n",
       "      <th>Final Critic</th>\n",
       "      <td>13</td>\n",
       "      <td>$4.61</td>\n",
       "      <td>$59.99</td>\n",
       "    </tr>\n",
       "    <tr>\n",
       "      <th>178</th>\n",
       "      <th>Oathbreaker, Last Hope of the Breaking Storm</th>\n",
       "      <td>12</td>\n",
       "      <td>$4.23</td>\n",
       "      <td>$50.76</td>\n",
       "    </tr>\n",
       "    <tr>\n",
       "      <th>82</th>\n",
       "      <th>Nirvana</th>\n",
       "      <td>9</td>\n",
       "      <td>$4.90</td>\n",
       "      <td>$44.10</td>\n",
       "    </tr>\n",
       "    <tr>\n",
       "      <th>145</th>\n",
       "      <th>Fiery Glass Crusader</th>\n",
       "      <td>9</td>\n",
       "      <td>$4.58</td>\n",
       "      <td>$41.22</td>\n",
       "    </tr>\n",
       "    <tr>\n",
       "      <th>103</th>\n",
       "      <th>Singed Scalpel</th>\n",
       "      <td>8</td>\n",
       "      <td>$4.35</td>\n",
       "      <td>$34.80</td>\n",
       "    </tr>\n",
       "  </tbody>\n",
       "</table>\n",
       "</div>"
      ],
      "text/plain": [
       "                                                      Purchase Count  \\\n",
       "Item ID Item Name                                                      \n",
       "92      Final Critic                                              13   \n",
       "178     Oathbreaker, Last Hope of the Breaking Storm              12   \n",
       "82      Nirvana                                                    9   \n",
       "145     Fiery Glass Crusader                                       9   \n",
       "103     Singed Scalpel                                             8   \n",
       "\n",
       "                                                     Item Price  \\\n",
       "Item ID Item Name                                                 \n",
       "92      Final Critic                                      $4.61   \n",
       "178     Oathbreaker, Last Hope of the Breaking Storm      $4.23   \n",
       "82      Nirvana                                           $4.90   \n",
       "145     Fiery Glass Crusader                              $4.58   \n",
       "103     Singed Scalpel                                    $4.35   \n",
       "\n",
       "                                                     Total Purchase Value  \n",
       "Item ID Item Name                                                          \n",
       "92      Final Critic                                               $59.99  \n",
       "178     Oathbreaker, Last Hope of the Breaking Storm               $50.76  \n",
       "82      Nirvana                                                    $44.10  \n",
       "145     Fiery Glass Crusader                                       $41.22  \n",
       "103     Singed Scalpel                                             $34.80  "
      ]
     },
     "execution_count": 10,
     "metadata": {},
     "output_type": "execute_result"
    }
   ],
   "source": [
    "# given all information & variables created, place information into a dataframe\n",
    "Item_summary_2 = pd.DataFrame({\"Purchase Count\": Pur_time,\n",
    "                             \"Item Price\": Item_price,\n",
    "                             \"Total Purchase Value\": Item_tot})\n",
    "\n",
    "# sort the \"Total Purchase Value\" based on descending order \n",
    "Item_summary_2 = Item_summary_2.sort_values(\"Total Purchase Value\", ascending=False)\n",
    "\n",
    "# format columns and display dataframe\n",
    "Item_summary_2[\"Item Price\"] = Item_summary_2[\"Item Price\"].map(\"${:.2f}\".format)\n",
    "Item_summary_2[\"Total Purchase Value\"] = Item_summary_2[\"Total Purchase Value\"].map(\"${:.2f}\".format)\n",
    "Item_summary_2.head()"
   ]
  },
  {
   "cell_type": "code",
   "execution_count": null,
   "metadata": {},
   "outputs": [],
   "source": []
  }
 ],
 "metadata": {
  "anaconda-cloud": {},
  "kernel_info": {
   "name": "python3"
  },
  "kernelspec": {
   "display_name": "Python [conda env:PythonData] *",
   "language": "python",
   "name": "conda-env-PythonData-py"
  },
  "language_info": {
   "codemirror_mode": {
    "name": "ipython",
    "version": 3
   },
   "file_extension": ".py",
   "mimetype": "text/x-python",
   "name": "python",
   "nbconvert_exporter": "python",
   "pygments_lexer": "ipython3",
   "version": "3.6.12"
  },
  "latex_envs": {
   "LaTeX_envs_menu_present": true,
   "autoclose": false,
   "autocomplete": true,
   "bibliofile": "biblio.bib",
   "cite_by": "apalike",
   "current_citInitial": 1,
   "eqLabelWithNumbers": true,
   "eqNumInitial": 1,
   "hotkeys": {
    "equation": "Ctrl-E",
    "itemize": "Ctrl-I"
   },
   "labels_anchors": false,
   "latex_user_defs": false,
   "report_style_numbering": false,
   "user_envs_cfg": false
  },
  "nteract": {
   "version": "0.2.0"
  }
 },
 "nbformat": 4,
 "nbformat_minor": 2
}
